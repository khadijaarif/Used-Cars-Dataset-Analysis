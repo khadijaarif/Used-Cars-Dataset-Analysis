{
  "nbformat": 4,
  "nbformat_minor": 0,
  "metadata": {
    "kernelspec": {
      "display_name": "Python 3",
      "language": "python",
      "name": "python3"
    },
    "language_info": {
      "codemirror_mode": {
        "name": "ipython",
        "version": 3
      },
      "file_extension": ".py",
      "mimetype": "text/x-python",
      "name": "python",
      "nbconvert_exporter": "python",
      "pygments_lexer": "ipython3",
      "version": "3.7.6"
    },
    "colab": {
      "name": "DS_Project_ML.ipynb",
      "provenance": [],
      "collapsed_sections": []
    }
  },
  "cells": [
    {
      "cell_type": "code",
      "metadata": {
        "colab": {
          "resources": {
            "http://localhost:8080/nbextensions/google.colab/files.js": {
              "data": "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",
              "ok": true,
              "headers": [
                [
                  "content-type",
                  "application/javascript"
                ]
              ],
              "status": 200,
              "status_text": ""
            }
          },
          "base_uri": "https://localhost:8080/",
          "height": 161
        },
        "id": "aePJQ34VPt_y",
        "outputId": "88d29427-f791-4944-911c-06c772ae9c28"
      },
      "source": [
        "import json\n",
        "import zipfile\n",
        "import os\n",
        "\n",
        "# !pip install kaggle\n",
        "from google.colab import files\n",
        "files.upload()\n",
        "\n",
        "! mkdir ~/.kaggle\n",
        "! cp kaggle.json ~/.kaggle/\n",
        "! chmod 600 ~/.kaggle/kaggle.json\n",
        "! kaggle datasets download -d austinreese/craigslist-carstrucks-data\n",
        "! unzip craigslist-carstrucks-data.zip -d craigslist-carstrucks-data"
      ],
      "execution_count": null,
      "outputs": [
        {
          "output_type": "display_data",
          "data": {
            "text/html": [
              "\n",
              "     <input type=\"file\" id=\"files-24931325-514d-4f5c-b7c4-5a88ee8322ac\" name=\"files[]\" multiple disabled\n",
              "        style=\"border:none\" />\n",
              "     <output id=\"result-24931325-514d-4f5c-b7c4-5a88ee8322ac\">\n",
              "      Upload widget is only available when the cell has been executed in the\n",
              "      current browser session. Please rerun this cell to enable.\n",
              "      </output>\n",
              "      <script src=\"/nbextensions/google.colab/files.js\"></script> "
            ],
            "text/plain": [
              "<IPython.core.display.HTML object>"
            ]
          },
          "metadata": {
            "tags": []
          }
        },
        {
          "output_type": "stream",
          "text": [
            "Saving kaggle.json to kaggle (2).json\n",
            "mkdir: cannot create directory ‘/root/.kaggle’: File exists\n",
            "craigslist-carstrucks-data.zip: Skipping, found more recently modified local copy (use --force to force download)\n",
            "Archive:  craigslist-carstrucks-data.zip\n",
            "replace craigslist-carstrucks-data/vehicles.csv? [y]es, [n]o, [A]ll, [N]one, [r]ename: y\n",
            "  inflating: craigslist-carstrucks-data/vehicles.csv  \n"
          ],
          "name": "stdout"
        }
      ]
    },
    {
      "cell_type": "code",
      "metadata": {
        "id": "gMp6iwi5L4x0"
      },
      "source": [
        "import pandas as pd\n",
        "import numpy as np\n",
        "import seaborn as sns\n",
        "import matplotlib.pyplot as plt\n",
        "import datetime\n",
        "import plotly.graph_objects as go\n",
        "from sklearn.linear_model import LinearRegression\n",
        "from sklearn.linear_model import LogisticRegression\n",
        "from sklearn.metrics import accuracy_score\n",
        "from sklearn.metrics import confusion_matrix\n",
        "from sklearn.datasets import load_iris\n",
        "from sklearn.linear_model import LogisticRegression\n",
        "from sklearn.datasets import load_iris"
      ],
      "execution_count": 1,
      "outputs": []
    },
    {
      "cell_type": "code",
      "metadata": {
        "colab": {
          "base_uri": "https://localhost:8080/",
          "height": 17
        },
        "id": "4Yca4eKX0kSE",
        "outputId": "74a130a1-98a8-4272-dd78-d0a3fb104f9d"
      },
      "source": [
        "import plotly.offline as py\n",
        "import plotly.express as px\n",
        "import plotly.graph_objects as go\n",
        "import plotly.figure_factory as ff\n",
        "import cufflinks as cf\n",
        "cf.set_config_file(offline=True, sharing=False, theme='ggplot');"
      ],
      "execution_count": 2,
      "outputs": [
        {
          "output_type": "display_data",
          "data": {
            "text/html": [
              "        <script type=\"text/javascript\">\n",
              "        window.PlotlyConfig = {MathJaxConfig: 'local'};\n",
              "        if (window.MathJax) {MathJax.Hub.Config({SVG: {font: \"STIX-Web\"}});}\n",
              "        if (typeof require !== 'undefined') {\n",
              "        require.undef(\"plotly\");\n",
              "        requirejs.config({\n",
              "            paths: {\n",
              "                'plotly': ['https://cdn.plot.ly/plotly-latest.min']\n",
              "            }\n",
              "        });\n",
              "        require(['plotly'], function(Plotly) {\n",
              "            window._Plotly = Plotly;\n",
              "        });\n",
              "        }\n",
              "        </script>\n",
              "        "
            ]
          },
          "metadata": {
            "tags": []
          }
        },
        {
          "output_type": "display_data",
          "data": {
            "text/html": [
              "        <script type=\"text/javascript\">\n",
              "        window.PlotlyConfig = {MathJaxConfig: 'local'};\n",
              "        if (window.MathJax) {MathJax.Hub.Config({SVG: {font: \"STIX-Web\"}});}\n",
              "        if (typeof require !== 'undefined') {\n",
              "        require.undef(\"plotly\");\n",
              "        requirejs.config({\n",
              "            paths: {\n",
              "                'plotly': ['https://cdn.plot.ly/plotly-latest.min']\n",
              "            }\n",
              "        });\n",
              "        require(['plotly'], function(Plotly) {\n",
              "            window._Plotly = Plotly;\n",
              "        });\n",
              "        }\n",
              "        </script>\n",
              "        "
            ]
          },
          "metadata": {
            "tags": []
          }
        }
      ]
    },
    {
      "cell_type": "code",
      "metadata": {
        "id": "mdNZD27-L4x1"
      },
      "source": [
        "#visualising Raw Data\n",
        "# raw=pd.read_csv(\"/content/craigslist-carstrucks-data/vehicles.csv\")\n",
        "# raw.info()\n",
        "# raw.describe(include='all')\n"
      ],
      "execution_count": 3,
      "outputs": []
    },
    {
      "cell_type": "code",
      "metadata": {
        "id": "Y_mpElZGfIPr"
      },
      "source": [
        "# reading cvs file and removing nan values that are other than the normal format\n",
        "\n",
        "missing_value_formats = [\"n.a.\",\"?\",\"NA\",\"n/a\", \"na\", \"--\",\"nan\"]\n",
        "df = pd.read_csv(\"/content/craigslist-carstrucks-data/vehicles.csv\", na_values = missing_value_formats)"
      ],
      "execution_count": 4,
      "outputs": []
    },
    {
      "cell_type": "code",
      "metadata": {
        "id": "xKrfYpMPL4x1"
      },
      "source": [
        "df = df[df['year'] >= 2015]\n",
        "df1 = df[df['price'] > 0]\n",
        "\n",
        "\n",
        "df1 = df1.drop(columns=[\"url\",\"region_url\",\"image_url\",\"description\",\"county\",\"paint_color\", \"region\",\"size\",\"vin\",\"transmission\"],axis=1)\n",
        "df1.dropna(axis=0, inplace=True)\n",
        "\n",
        "#removing duplicates\n",
        "df1=df1[df1.duplicated(subset=[\"price\",\"year\",\"manufacturer\",\"model\",\"condition\",\"cylinders\",\"fuel\",\"odometer\",\"title_status\",\"drive\",\"type\",\"state\"],keep= \"first\")==False]\n",
        "\n",
        "# make numeric columns for the string columns to find correlations. using the unique values created above to do that\n",
        "df1.replace(['good' ,'fair' ,'excellent' ,'like new' ,'salvage' ,'new'], [2,1,3, 4, 0, 5], inplace=True)\n",
        "df1.replace(['8 cylinders' ,'6 cylinders' ,'4 cylinders' ,'5 cylinders' ,'10 cylinders' ,'other' ,'3 cylinders', '12 cylinders'], [8,6,4, 5, 10,0,3,12], inplace=True)\n",
        "#condtion changed to 0 to 5 scale."
      ],
      "execution_count": 5,
      "outputs": []
    },
    {
      "cell_type": "code",
      "metadata": {
        "id": "C6iy9tXqLiF4"
      },
      "source": [
        "def normalize(df_column):\n",
        "  range = df_column.max()-df_column.min()\n",
        "  return df_column.apply(lambda x: (x-df_column.min())/range )\n",
        "def OHE(df_column):\n",
        "  return pd.get_dummies(df_column)"
      ],
      "execution_count": 8,
      "outputs": []
    },
    {
      "cell_type": "code",
      "metadata": {
        "id": "6voSov3qDWzy"
      },
      "source": [
        "normalized_odometer = normalize(df1.odometer)\n",
        "normalized_price = normalize(df1.price)\n",
        "OHE_state = OHE(df1.state)\n",
        "OHE_condition = pd.get_dummies(df1.condition)\n",
        "OHE_type = pd.get_dummies(df1['type'])\n",
        "OHE_title_status = pd.get_dummies(df1.title_status)\n",
        "OHE_manufacturer = OHE(df1.manufacturer)\n",
        "OHE_model = OHE(df1.model)\n",
        "OHE_drive = OHE(df1.drive)"
      ],
      "execution_count": 9,
      "outputs": []
    },
    {
      "cell_type": "code",
      "metadata": {
        "id": "dIIPaHK-JSMd"
      },
      "source": [
        "final_data = [df1.price,normalized_odometer,OHE_state,OHE_condition,OHE_type,OHE_drive,OHE_title_status,df1.year]\n",
        "final_df = pd.concat(final_data, axis=1)\n",
        "# final_df.drop(0,axis=1,inplace=True)\n",
        "final_df_test = final_df[final_df.year >= 2019]\n",
        "final_df = final_df[final_df.year < 2019]\n"
      ],
      "execution_count": 10,
      "outputs": []
    },
    {
      "cell_type": "code",
      "metadata": {
        "colab": {
          "base_uri": "https://localhost:8080/"
        },
        "id": "Srs0INJBQZAY",
        "outputId": "5c22d355-eaee-4238-c895-6492ae1460ba"
      },
      "source": [
        "print(final_df.shape)\n",
        "print(final_df_test.shape)"
      ],
      "execution_count": 11,
      "outputs": [
        {
          "output_type": "stream",
          "text": [
            "(14538, 82)\n",
            "(2951, 82)\n"
          ],
          "name": "stdout"
        }
      ]
    },
    {
      "cell_type": "code",
      "metadata": {
        "id": "uyGqJWR-4LT7"
      },
      "source": [
        "final_df.drop('year', axis=1)\n",
        "final_df_test.drop('year', axis=1)\n",
        "\n",
        "final_df.reset_index(inplace=True,drop=True)\n",
        "final_df_test.reset_index(inplace=True,drop=True)"
      ],
      "execution_count": 12,
      "outputs": []
    },
    {
      "cell_type": "code",
      "metadata": {
        "colab": {
          "base_uri": "https://localhost:8080/"
        },
        "id": "d2CTZaNByyx2",
        "outputId": "ec785bbc-5654-44b1-df69-82130ade028c"
      },
      "source": [
        "import sklearn\n",
        "\n",
        "X = final_df.copy().drop('price', axis=1)\n",
        "X_test = final_df_test.copy().drop('price', axis=1)\n",
        "Y_test = final_df_test[\"price\"]\n",
        "Y = final_df[\"price\"]\n",
        "model = LinearRegression()\n",
        "model.fit(X,Y)\n",
        "Y_pred = model.predict(X_test)\n",
        "# print(\"Testing accuracy is\",accuracy_score(Y_pred,Y[:2]))\n",
        "sklearn.metrics.mean_absolute_error(y_true=Y_test,y_pred=Y_pred)"
      ],
      "execution_count": 13,
      "outputs": [
        {
          "output_type": "execute_result",
          "data": {
            "text/plain": [
              "7843.155879362927"
            ]
          },
          "metadata": {
            "tags": []
          },
          "execution_count": 13
        }
      ]
    },
    {
      "cell_type": "code",
      "metadata": {
        "colab": {
          "base_uri": "https://localhost:8080/",
          "height": 279
        },
        "id": "bdyNTlqtFAVs",
        "outputId": "162958c8-2ba3-430f-f00b-02db089e9f84"
      },
      "source": [
        "plt.plot(Y_pred[:50],'r-',label='Predicted')\n",
        "plt.plot(Y_test[:50],'b-',label='Actual')\n",
        "plt.ylabel('Price')\n",
        "plt.xlabel('Sample')\n",
        "plt.legend()\n",
        "plt.show()"
      ],
      "execution_count": 14,
      "outputs": [
        {
          "output_type": "display_data",
          "data": {
            "image/png": "[encoded data removed]",
            "text/plain": [
              "<Figure size 432x288 with 1 Axes>"
            ]
          },
          "metadata": {
            "tags": [],
            "needs_background": "light"
          }
        }
      ]
    },
    {
      "cell_type": "code",
      "metadata": {
        "colab": {
          "base_uri": "https://localhost:8080/"
        },
        "id": "GoqTwM_abyk7",
        "outputId": "d5f6ef7f-f3db-4916-a970-82e2f0a1dde5"
      },
      "source": [
        "OHE_manufacturer.columns"
      ],
      "execution_count": 15,
      "outputs": [
        {
          "output_type": "execute_result",
          "data": {
            "text/plain": [
              "Index(['acura', 'alfa-romeo', 'aston-martin', 'audi', 'bmw', 'buick',\n",
              "       'cadillac', 'chevrolet', 'chrysler', 'dodge', 'fiat', 'ford', 'gmc',\n",
              "       'honda', 'hyundai', 'infiniti', 'jaguar', 'jeep', 'kia', 'land rover',\n",
              "       'lexus', 'lincoln', 'mazda', 'mercedes-benz', 'mini', 'mitsubishi',\n",
              "       'nissan', 'porche', 'ram', 'rover', 'subaru', 'tesla', 'toyota',\n",
              "       'volkswagen', 'volvo'],\n",
              "      dtype='object')"
            ]
          },
          "metadata": {
            "tags": []
          },
          "execution_count": 15
        }
      ]
    },
    {
      "cell_type": "code",
      "metadata": {
        "id": "1UzPTIcwdICG"
      },
      "source": [
        "missing_value_formats = [\"n.a.\",\"?\",\"NA\",\"n/a\", \"na\", \"--\",\"nan\"]\n",
        "df = pd.read_csv(\"/content/craigslist-carstrucks-data/vehicles.csv\", na_values = missing_value_formats)\n",
        "# df = df[df['year'] >= 2016]\n",
        "df1 = df[df['price'] > 0]\n",
        "\n",
        "\n",
        "df1 = df1.drop(columns=[\"url\",\"region_url\",\"image_url\",\"description\",\"county\",\"paint_color\", \"region\",\"size\",\"vin\",\"transmission\"],axis=1)\n",
        "df1.dropna(axis=0, inplace=True)\n",
        "\n",
        "#removing duplicates\n",
        "df1=df1[df1.duplicated(subset=[\"price\",\"year\",\"manufacturer\",\"model\",\"condition\",\"cylinders\",\"fuel\",\"odometer\",\"title_status\",\"drive\",\"type\",\"state\"],keep= \"first\")==False]\n",
        "\n",
        "# make numeric columns for the string columns to find correlations. using the unique values created above to do that\n",
        "# df1.replace(['good' ,'fair' ,'excellent' ,'like new' ,'salvage' ,'new'], [2,1,3, 4, 0, 5], inplace=True)\n",
        "df1.replace(['8 cylinders' ,'6 cylinders' ,'4 cylinders' ,'5 cylinders' ,'10 cylinders' ,'other' ,'3 cylinders', '12 cylinders'], [8,6,4, 5, 10,0,3,12], inplace=True)\n",
        "#condtion changed to 0 to 5 scale."
      ],
      "execution_count": 25,
      "outputs": []
    },
    {
      "cell_type": "code",
      "metadata": {
        "id": "Y29rcz8Rc__i"
      },
      "source": [
        "normalized_odometer = normalize(df1.odometer)\n",
        "normalized_price = normalize(df1.price)\n",
        "OHE_state = OHE(df1.state)\n",
        "OHE_condition = pd.get_dummies(df1.condition)\n",
        "OHE_type = pd.get_dummies(df1['type'])\n",
        "OHE_title_status = pd.get_dummies(df1.title_status)\n",
        "OHE_manufacturer = OHE(df1.manufacturer)\n",
        "OHE_model = OHE(df1.model)\n",
        "OHE_drive = OHE(df1.drive)"
      ],
      "execution_count": 26,
      "outputs": []
    },
    {
      "cell_type": "code",
      "metadata": {
        "id": "-7MCPjSu7ykR"
      },
      "source": [
        "logReg_data = [normalized_price,normalized_odometer,OHE_type,OHE_manufacturer,OHE_drive,df1.year]\n",
        "logReg_df = pd.concat(logReg_data, axis=1)\n",
        "\n",
        "logReg_df_test = logReg_df[logReg_df.year >= 2019]\n",
        "logReg_df = logReg_df[logReg_df.year < 2019]\n",
        "\n",
        "test_df = df1[df1['year'] >= 2019]\n",
        "train_df = df1[df1['year'] < 2019]\n",
        "\n",
        "X_logReg = logReg_df.copy()\n",
        "Y_logReg = train_df.condition\n",
        "\n",
        "X_logReg_test = logReg_df_test.copy()\n",
        "Y_logReg_test = test_df.condition\n",
        "\n",
        "\n",
        "X_logReg_test.drop('year', axis=1)\n",
        "X_logReg.drop('year', axis=1)\n",
        "\n",
        "X_logReg_test.reset_index(inplace=True,drop=True)\n",
        "X_logReg.reset_index(inplace=True,drop=True)"
      ],
      "execution_count": 27,
      "outputs": []
    },
    {
      "cell_type": "code",
      "metadata": {
        "colab": {
          "base_uri": "https://localhost:8080/"
        },
        "id": "ETda8iPDUhTo",
        "outputId": "6d1c22d4-a38c-477a-8146-7aef30f383a1"
      },
      "source": [
        "clf = LogisticRegression(penalty= 'none').fit(X_logReg,Y_logReg)\n",
        "test_Y_pred = clf.predict(X_logReg_test)\n",
        "\n",
        "print(\"Testing acc is\",accuracy_score(Y_logReg_test,test_Y_pred))\n",
        "print(\"Confusion matrix is\\n\",confusion_matrix(Y_logReg_test,test_Y_pred))"
      ],
      "execution_count": 28,
      "outputs": [
        {
          "output_type": "stream",
          "text": [
            "Testing acc is 0.46289393425957304\n",
            "Confusion matrix is\n",
            " [[597   0 354   0   0   0]\n",
            " [  1   0   0   0   0   0]\n",
            " [179   0 769   0   0   0]\n",
            " [571   0 326   0   0   0]\n",
            " [ 87   0  65   0   0   0]\n",
            " [  2   0   0   0   0   0]]\n"
          ],
          "name": "stdout"
        }
      ]
    },
    {
      "cell_type": "code",
      "metadata": {
        "id": "-Q8Gq-_Va_sz"
      },
      "source": [
        "# np.array(test_Y_pred)"
      ],
      "execution_count": 20,
      "outputs": []
    },
    {
      "cell_type": "code",
      "metadata": {
        "colab": {
          "base_uri": "https://localhost:8080/"
        },
        "id": "k7omzuwdgWAY",
        "outputId": "5568dbe8-b784-4b11-ea55-d885a48b5727"
      },
      "source": [
        "Y_logReg_test.shape"
      ],
      "execution_count": 21,
      "outputs": [
        {
          "output_type": "execute_result",
          "data": {
            "text/plain": [
              "(2951,)"
            ]
          },
          "metadata": {
            "tags": []
          },
          "execution_count": 21
        }
      ]
    },
    {
      "cell_type": "code",
      "metadata": {
        "id": "uizRlV8EVljB",
        "colab": {
          "base_uri": "https://localhost:8080/",
          "height": 279
        },
        "outputId": "9d9f623e-fbe4-4f7f-8006-b4cdc325b173"
      },
      "source": [
        "plt.plot(np.array(Y_logReg_test[:100]),'b-',label='Actual')\n",
        "plt.plot(np.array(test_Y_pred[:100]),'r-',label='Predicted')\n",
        "plt.ylabel('Condition')\n",
        "plt.xlabel('Sample')\n",
        "plt.legend()\n",
        "plt.show()"
      ],
      "execution_count": 30,
      "outputs": [
        {
          "output_type": "display_data",
          "data": {
            "image/png": "[encoded data removed]",
            "text/plain": [
              "<Figure size 432x288 with 1 Axes>"
            ]
          },
          "metadata": {
            "tags": [],
            "needs_background": "light"
          }
        }
      ]
    },
    {
      "cell_type": "code",
      "metadata": {
        "id": "ZB5R6UmQa3wu"
      },
      "source": [
        ""
      ],
      "execution_count": 22,
      "outputs": []
    }
  ]
}